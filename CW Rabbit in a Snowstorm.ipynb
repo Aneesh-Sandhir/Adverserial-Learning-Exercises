{
 "cells": [
  {
   "cell_type": "code",
   "execution_count": 1,
   "id": "bc92dcdb-a631-4ce0-a687-418e1ab5448e",
   "metadata": {},
   "outputs": [],
   "source": [
    "import torch\n",
    "import torch.optim as optim\n",
    "from torchvision import transforms \n",
    "\n",
    "import numpy as np\n",
    "from PIL import Image\n",
    "import requests\n",
    "import copy\n",
    "from tqdm import trange\n",
    "import matplotlib.pyplot as plt"
   ]
  },
  {
   "cell_type": "code",
   "execution_count": 2,
   "id": "3a189918-1d40-46b4-acd3-258073ef46f6",
   "metadata": {},
   "outputs": [],
   "source": [
    "def plot_image(image_batch, title):\n",
    "    display_image = image_batch[0].permute(1,2,0).numpy()\n",
    "    \n",
    "    plt.imshow(display_image)\n",
    "    plt.title(title)\n",
    "    plt.show()"
   ]
  },
  {
   "cell_type": "code",
   "execution_count": 3,
   "id": "116da774-b2dc-4b8a-829d-2406b16d64bc",
   "metadata": {},
   "outputs": [],
   "source": [
    "def prepare_image(image):\n",
    "    preprocessing = transforms.Compose([\n",
    "        transforms.Resize((224, 224)),\n",
    "        transforms.ToTensor(),\n",
    "        ])\n",
    "    image = preprocessing(image)\n",
    "    mini_batch = image.unsqueeze(0)\n",
    "    \n",
    "    return mini_batch"
   ]
  },
  {
   "cell_type": "code",
   "execution_count": 4,
   "id": "b37e4893-74ef-4c2e-955d-a57dbbe32d3a",
   "metadata": {},
   "outputs": [],
   "source": [
    "def postprocess_image(image_tensor):\n",
    "    \n",
    "    display_image = image_tensor[0]\n",
    "    display_image = display_image.permute(1,2,0).detach().numpy()\n",
    "    display_image *= 255\n",
    "    display_image = display_image.astype(np.uint8)\n",
    "    display_image = Image.fromarray(display_image, mode='RGB')\n",
    "\n",
    "    return display_image "
   ]
  },
  {
   "cell_type": "markdown",
   "id": "6de50560-f2a1-42b8-8c2c-913e9eb32bf0",
   "metadata": {},
   "source": [
    "## Prepare the Image of the \"Snow Storm\" by creating an array with every value being 255"
   ]
  },
  {
   "cell_type": "code",
   "execution_count": 5,
   "id": "7eb755bb-1338-4556-9925-f6a42963da73",
   "metadata": {},
   "outputs": [
    {
     "name": "stderr",
     "output_type": "stream",
     "text": [
      "/var/folders/w2/7k8xcq0x0r36wv03zdzfwd640000gn/T/ipykernel_47578/3792520591.py:5: DeprecationWarning: 'mode' parameter is deprecated and will be removed in Pillow 13 (2026-10-15)\n",
      "  snowstorm = Image.fromarray(snowstorm, mode='RGB')\n"
     ]
    },
    {
     "data": {
      "image/png": "[encoded data removed]",
      "text/plain": [
       "<Figure size 640x480 with 1 Axes>"
      ]
     },
     "metadata": {},
     "output_type": "display_data"
    }
   ],
   "source": [
    "# Create an array of shape (height, width, 3) filled with 255 (white)\n",
    "snowstorm = np.full((224, 224, 3), 255, dtype=np.uint8)\n",
    "\n",
    "# Convert to PIL image\n",
    "snowstorm = Image.fromarray(snowstorm, mode='RGB')\n",
    "\n",
    "plt.title('Snow Storm')\n",
    "plt.imshow(snowstorm);"
   ]
  },
  {
   "cell_type": "markdown",
   "id": "2734b500-847c-4b98-8abf-d119b66b6a70",
   "metadata": {},
   "source": [
    "## Prepare the Image of the \"Snow Storm\" by Resizing, Converting to a Tensor of Floating Point Values between 0 and 1, and Creating a Batch of 1 image"
   ]
  },
  {
   "cell_type": "code",
   "execution_count": 6,
   "id": "6f3e90f7-d5af-4a6a-b46d-8f51be1e7be1",
   "metadata": {},
   "outputs": [
    {
     "data": {
      "image/png": "[encoded data removed]",
      "text/plain": [
       "<Figure size 640x480 with 1 Axes>"
      ]
     },
     "metadata": {},
     "output_type": "display_data"
    }
   ],
   "source": [
    "snowstorm = prepare_image(snowstorm)\n",
    "plot_image(snowstorm, 'Snow Storm Normalized');"
   ]
  },
  {
   "cell_type": "markdown",
   "id": "ec18082d-8d5a-44ac-8f62-180164b73a2b",
   "metadata": {},
   "source": [
    "## Import the Image Classification Model and Infer upon the Prepared Image of the \"Snow Storm\""
   ]
  },
  {
   "cell_type": "code",
   "execution_count": 7,
   "id": "ff82137d-abc6-4810-9a7d-5f78dad23b48",
   "metadata": {},
   "outputs": [
    {
     "name": "stderr",
     "output_type": "stream",
     "text": [
      "Using cache found in /Users/asandhir/.cache/torch/hub/pytorch_vision_v0.10.0\n",
      "/opt/anaconda3/envs/py311_env/lib/python3.11/site-packages/torchvision/models/_utils.py:223: UserWarning: Arguments other than a weight enum or `None` for 'weights' are deprecated since 0.13 and may be removed in the future. The current behavior is equivalent to passing `weights=MobileNet_V2_Weights.IMAGENET1K_V1`. You can also use `weights=MobileNet_V2_Weights.DEFAULT` to get the most up-to-date weights.\n",
      "  warnings.warn(msg)\n"
     ]
    },
    {
     "name": "stdout",
     "output_type": "stream",
     "text": [
      "wall clock with  0.0101 confidence\n"
     ]
    }
   ],
   "source": [
    "mobilenetv2 = torch.hub.load('pytorch/vision:v0.10.0', 'mobilenet_v2', weights=True).eval()\n",
    "model_categories_url = 'https://raw.githubusercontent.com/pytorch/hub/master/imagenet_classes.txt'\n",
    "model_categories = requests.get(model_categories_url).text.split('\\n')\n",
    "\n",
    "snowstorm_predictions = mobilenetv2(snowstorm)\n",
    "snowstorm_predictions = torch.nn.functional.softmax(snowstorm_predictions, dim = 1) \n",
    "\n",
    "confidences, class_indicies = torch.sort(snowstorm_predictions, descending = True)\n",
    "predicted_class = model_categories[class_indicies[0,0]]\n",
    "print(f'{model_categories[class_indicies[0,0]]} with {confidences[0,0] : .4f} confidence')"
   ]
  },
  {
   "cell_type": "markdown",
   "id": "c6156c3f-c148-41b1-b269-ad57b2a2a46b",
   "metadata": {},
   "source": [
    "## Create the target vector for CW to converge on"
   ]
  },
  {
   "cell_type": "code",
   "execution_count": 8,
   "id": "612fb35f-875b-4ab0-b8bc-f5aeafa431ce",
   "metadata": {},
   "outputs": [],
   "source": [
    "target_class = 'hare'\n",
    "target = torch.Tensor([model_categories.index(target_class)]).int()"
   ]
  },
  {
   "cell_type": "markdown",
   "id": "122550f0-a191-4300-972b-1a1462f078a5",
   "metadata": {},
   "source": [
    "## Specify the Hyperparamters of the CW Algorithm"
   ]
  },
  {
   "cell_type": "code",
   "execution_count": 9,
   "id": "b9213e5a-ca7d-4663-ab29-773cce562df0",
   "metadata": {},
   "outputs": [],
   "source": [
    "targeted = False\n",
    "learning_rate = 0.01\n",
    "initial_constant = 0.001\n",
    "binary_search_steps = 9\n",
    "max_itterations = 1000\n",
    "confidence = 0 \n",
    "abort_early = True"
   ]
  },
  {
   "cell_type": "markdown",
   "id": "1039059e-e974-4c1e-99ef-a0c08a56b7bf",
   "metadata": {},
   "source": [
    "## Initalize the Variables Needed to Execute the CW Algorithm"
   ]
  },
  {
   "cell_type": "code",
   "execution_count": 72,
   "id": "5e822d6e-6676-4b2f-9488-7874f364d4d7",
   "metadata": {},
   "outputs": [],
   "source": [
    "batch_size = len(snowstorm)\n",
    "batch_view = lambda tensor: tensor.view(batch_size,  *[1] * (snowstorm.dim() - 1))\n",
    "tanh_inputs = torch.atanh((1 - 1e-6) * (2 * snowstorm - 1))\n",
    "multiplier = -1\n",
    "\n",
    "c = torch.full((batch_size, ), initial_constant)\n",
    "lowerbound = torch.zeros_like(c)\n",
    "upperbound = torch.full_like(c, 1e10)\n",
    "\n",
    "overall_best_l2 = torch.full_like(c, torch.inf)\n",
    "rabbit_in_snowstorm = snowstorm.clone()\n",
    "rabbit_found = torch.zeros(batch_size, dtype = torch.bool)\n",
    "\n",
    "predictions = mobilenetv2(snowstorm)\n",
    "oh_labels = torch.zeros_like(predictions).scatter_(1, target.unsqueeze(1).long(), 1)\n",
    "infh_labels = torch.zeros_like(predictions).scatter_(1, target.unsqueeze(1).long(), torch.inf)\n",
    "\n",
    "best_i = 0\n",
    "best_c = 0"
   ]
  },
  {
   "cell_type": "markdown",
   "id": "1e366beb-a551-4df5-b64f-775a8569493c",
   "metadata": {},
   "source": [
    "## Execute the CW Algorithm"
   ]
  },
  {
   "cell_type": "code",
   "execution_count": null,
   "id": "60eaed6d-dba7-49bb-8b29-032ff1dbe348",
   "metadata": {},
   "outputs": [
    {
     "name": "stderr",
     "output_type": "stream",
     "text": [
      "c:  0.0010:  10%|██▊                         | 100/1000 [00:29<04:27,  3.37it/s]\n",
      "c:  0.0100:  10%|██▊                         | 100/1000 [00:27<04:10,  3.59it/s]\n",
      "c:  0.1000:  10%|██▊                         | 100/1000 [00:30<04:33,  3.29it/s]\n",
      "c:  1.0000:   7%|█▉                           | 66/1000 [00:21<04:58,  3.13it/s]"
     ]
    }
   ],
   "source": [
    "for outer_step in range(binary_search_steps):\n",
    "    modifier = torch.zeros_like(snowstorm, requires_grad = True)\n",
    "    optimizer = optim.Adam([modifier], lr = learning_rate)\n",
    "    best_l2_distance = torch.full_like(c, torch.inf)\n",
    "    adv_found = torch.zeros(batch_size, dtype = torch.bool)\n",
    "\n",
    "    previous_loss = torch.inf\n",
    "    for i in trange(max_itterations, desc = f'c: {c[0].item(): .4f}'):\n",
    "        adv_inputs = (torch.tanh(tanh_inputs + modifier) + 1)/2\n",
    "        l2_squared = (adv_inputs - snowstorm).flatten(1).square().sum(1)\n",
    "        l2_distance = l2_squared.detach().sqrt()\n",
    "        logits = mobilenetv2.forward(adv_inputs)\n",
    "        \n",
    "        predicted_classes = (logits - (confidence * oh_labels)).argmax(1)\n",
    "        adverserial = (predicted_classes == target) \n",
    "        \n",
    "        is_smaller = l2_distance < best_l2_distance\n",
    "        outer_is_smaller = l2_distance < overall_best_l2\n",
    "        is_both = adverserial & is_smaller\n",
    "        outer_is_both = adverserial & outer_is_smaller\n",
    "        if outer_is_both:\n",
    "            best_i = i\n",
    "            best_c = c\n",
    "\n",
    "        best_l2_distance = torch.where(is_both, l2_distance, best_l2_distance)\n",
    "        adv_found.logical_or_(is_both)\n",
    "        overall_best_l2 = torch.where(outer_is_both, l2_distance, overall_best_l2)\n",
    "        rabbit_found.logical_or_(outer_is_both)\n",
    "        rabbit_in_snowstorm = torch.where(batch_view(outer_is_both), adv_inputs.detach(), rabbit_in_snowstorm)\n",
    "        \n",
    "        class_logits = logits.gather(1, target.unsqueeze(1).long()).squeeze(1)\n",
    "        other_logits = (logits - infh_labels).amax(dim = 1)\n",
    "        logits_dist = multiplier * (class_logits - other_logits)\n",
    "        loss = l2_squared + c * (logits_dist + confidence).clamp_(min = 0)\n",
    "\n",
    "        if abort_early and (i % (max_itterations // 10) == 0):\n",
    "            if (loss > previous_loss * .9999).all():\n",
    "                break\n",
    "            previous_loss = loss.detach()\n",
    "        \n",
    "        optimizer.zero_grad(set_to_none = None)\n",
    "        modifier.grad = torch.autograd.grad(loss.sum(), modifier, only_inputs = True)[0]\n",
    "        optimizer.step()\n",
    "\n",
    "    upperbound[adv_found] = torch.min(upperbound[adv_found], c[adv_found])\n",
    "    lowerbound[~adv_found] = torch.max(lowerbound[~adv_found], c[~adv_found])\n",
    "    is_smaller = upperbound < 1e9\n",
    "    c[is_smaller] = (lowerbound[is_smaller] + upperbound[is_smaller])/2\n",
    "    c[(~is_smaller) & (~adv_found)] *= 10\n",
    "\n",
    "rabbit_in_snowstorm_predictions = mobilenetv2.forward(rabbit_in_snowstorm)\n",
    "rabbit_in_snowstorm_predictions = torch.nn.functional.softmax(rabbit_in_snowstorm_predictions, dim = 1) \n",
    "confidences, class_indicies = torch.sort(rabbit_in_snowstorm_predictions, descending = True)\n",
    "prediction = model_categories[class_indicies[0, 0]]\n",
    "plot_image(rabbit_in_snowstorm.detach(), f'{prediction} with {100 * confidences[0,0]: .4f}% confidence after {best_i} itterations at {best_c[0].item(): .4f}')\n"
   ]
  },
  {
   "cell_type": "markdown",
   "id": "629c54cf-7d7b-4ceb-a21e-799dd5f438c7",
   "metadata": {},
   "source": [
    "## Test Whether the Adverserial Perturbations Survive When Converted to a .png File"
   ]
  },
  {
   "cell_type": "code",
   "execution_count": 1,
   "id": "2e168a3b-f9d2-41f6-b433-3b18578a80b8",
   "metadata": {},
   "outputs": [
    {
     "ename": "NameError",
     "evalue": "name 'postprocess_image' is not defined",
     "output_type": "error",
     "traceback": [
      "\u001b[0;31m---------------------------------------------------------------------------\u001b[0m",
      "\u001b[0;31mNameError\u001b[0m                                 Traceback (most recent call last)",
      "Cell \u001b[0;32mIn[1], line 1\u001b[0m\n\u001b[0;32m----> 1\u001b[0m descritized_image \u001b[38;5;241m=\u001b[39m postprocess_image(rabbit_in_snowstorm)\n\u001b[1;32m      3\u001b[0m descritized_predictions \u001b[38;5;241m=\u001b[39m mobilenetv2\u001b[38;5;241m.\u001b[39mforward(prepare_image(descritized_image))\n\u001b[1;32m      4\u001b[0m descritized_predictions \u001b[38;5;241m=\u001b[39m torch\u001b[38;5;241m.\u001b[39mnn\u001b[38;5;241m.\u001b[39mfunctional\u001b[38;5;241m.\u001b[39msoftmax(descritized_predictions, dim \u001b[38;5;241m=\u001b[39m \u001b[38;5;241m1\u001b[39m) \n",
      "\u001b[0;31mNameError\u001b[0m: name 'postprocess_image' is not defined"
     ]
    }
   ],
   "source": [
    "descritized_image = postprocess_image(rabbit_in_snowstorm)\n",
    "\n",
    "descritized_predictions = mobilenetv2.forward(prepare_image(descritized_image))\n",
    "descritized_predictions = torch.nn.functional.softmax(descritized_predictions, dim = 1) \n",
    "confidences, class_indicies = torch.sort(descritized_predictions, descending = True)\n",
    "\n",
    "plt.imshow(descritized_image)\n",
    "plt.title(f'{model_categories[class_indicies[0,0]]} with {100 * confidences[0,0]: .4f}% confidence');"
   ]
  },
  {
   "cell_type": "code",
   "execution_count": null,
   "id": "57ce1062-8049-4d6b-ac75-2f5d650d5d75",
   "metadata": {},
   "outputs": [],
   "source": []
  }
 ],
 "metadata": {
  "kernelspec": {
   "display_name": "Python 3 (ipykernel)",
   "language": "python",
   "name": "python3"
  },
  "language_info": {
   "codemirror_mode": {
    "name": "ipython",
    "version": 3
   },
   "file_extension": ".py",
   "mimetype": "text/x-python",
   "name": "python",
   "nbconvert_exporter": "python",
   "pygments_lexer": "ipython3",
   "version": "3.11.13"
  }
 },
 "nbformat": 4,
 "nbformat_minor": 5
}
